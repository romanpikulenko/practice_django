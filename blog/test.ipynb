{
 "cells": [
  {
   "cell_type": "code",
   "execution_count": null,
   "id": "9f33cafa",
   "metadata": {},
   "outputs": [],
   "source": [
    "from django.db import models\n",
    "from blog.models import Post"
   ]
  },
  {
   "cell_type": "code",
   "execution_count": 1,
   "id": "8839ac6b",
   "metadata": {},
   "outputs": [],
   "source": [
    "posts = Post.objects.filter(author = 1)\n"
   ]
  },
  {
   "cell_type": "code",
   "execution_count": 2,
   "id": "bb4e4abb",
   "metadata": {},
   "outputs": [
    {
     "data": {
      "text/plain": [
       "<QuerySet [<Post: Белый аист>, <Post: Бенгальский тигр>]>"
      ]
     },
     "execution_count": 2,
     "metadata": {},
     "output_type": "execute_result"
    }
   ],
   "source": [
    "posts"
   ]
  },
  {
   "cell_type": "code",
   "execution_count": 3,
   "id": "2fbe98a4",
   "metadata": {},
   "outputs": [
    {
     "ename": "AttributeError",
     "evalue": "type object 'Post' has no attribute 'filter'",
     "output_type": "error",
     "traceback": [
      "\u001b[1;31m---------------------------------------------------------------------------\u001b[0m",
      "\u001b[1;31mAttributeError\u001b[0m                            Traceback (most recent call last)",
      "Cell \u001b[1;32mIn[3], line 1\u001b[0m\n\u001b[1;32m----> 1\u001b[0m posts \u001b[38;5;241m=\u001b[39m \u001b[43mPost\u001b[49m\u001b[38;5;241;43m.\u001b[39;49m\u001b[43mfilter\u001b[49m(author \u001b[38;5;241m=\u001b[39m \u001b[38;5;241m1\u001b[39m)\n",
      "\u001b[1;31mAttributeError\u001b[0m: type object 'Post' has no attribute 'filter'"
     ]
    }
   ],
   "source": [
    "posts = Post.filter(author = 1)"
   ]
  },
  {
   "cell_type": "code",
   "execution_count": 4,
   "id": "2b12fe8c",
   "metadata": {},
   "outputs": [],
   "source": [
    "posts = Post.objects.filter(author = 1)"
   ]
  },
  {
   "cell_type": "code",
   "execution_count": 5,
   "id": "2e29879c",
   "metadata": {},
   "outputs": [
    {
     "data": {
      "text/plain": [
       "<QuerySet [<Post: Бенгальский тигр>, <Post: Белый аист>]>"
      ]
     },
     "execution_count": 5,
     "metadata": {},
     "output_type": "execute_result"
    }
   ],
   "source": [
    "posts.order_by(\"-date_created\")\n"
   ]
  },
  {
   "cell_type": "markdown",
   "id": "56272f96",
   "metadata": {},
   "source": [
    "## Technical requirements\n",
    "\n",
    "1. Output a user's posts\n",
    "1. Filter them to make the first last\n",
    "\n",
    "### Model\n",
    "\n",
    "QuerySet - fetch records from db\n",
    "\n",
    "`posts = Post.objects.filter(author=1).order_by('-date_created')`\n",
    "\n",
    "### View\n",
    "\n",
    "\n",
    "`class UserPostListView(ListView)`\n",
    "\n",
    "`get_queryset()`\n",
    "\n",
    "`get_context_data()`\n",
    "\n",
    "`template_name`\n",
    "\n",
    "`context_object_name`\n",
    "\n",
    "`paginate_by`\n",
    "\n",
    "\n",
    "### Url\n",
    "\n",
    "`path`\n",
    "\n",
    "### Template\n",
    "\n",
    "`context_object_name`"
   ]
  },
  {
   "cell_type": "code",
   "execution_count": 1,
   "id": "a773de79",
   "metadata": {},
   "outputs": [],
   "source": [
    "from django.template import Context, Template"
   ]
  },
  {
   "cell_type": "code",
   "execution_count": 2,
   "id": "fa340d61",
   "metadata": {},
   "outputs": [
    {
     "data": {
      "text/plain": [
       "'My name is Roman'"
      ]
     },
     "execution_count": 2,
     "metadata": {},
     "output_type": "execute_result"
    }
   ],
   "source": [
    "template = Template(\"My name is {{my_name}}\")\n",
    "context = Context({\"my_name\": \"Roman\"})\n",
    "template.render(context)"
   ]
  },
  {
   "cell_type": "code",
   "execution_count": 3,
   "id": "ea8bf594",
   "metadata": {},
   "outputs": [
    {
     "data": {
      "text/plain": [
       "'тест-слагифай'"
      ]
     },
     "execution_count": 3,
     "metadata": {},
     "output_type": "execute_result"
    }
   ],
   "source": [
    "from django.utils.text import slugify\n",
    "\n",
    "slugify(\"тест слагифай\", allow_unicode=True)"
   ]
  },
  {
   "cell_type": "code",
   "execution_count": 5,
   "id": "bcfd600d",
   "metadata": {},
   "outputs": [
    {
     "name": "stdout",
     "output_type": "stream",
     "text": [
      "Seint, Sil'viia\n",
      "seint-silviia\n"
     ]
    }
   ],
   "source": [
    "from django.utils.text import slugify\n",
    "from unidecode import unidecode\n",
    "\n",
    "print(unidecode('Сэйнт, Сильвия'))\n",
    "print(slugify(unidecode('Сэйнт, Сильвия')))\n"
   ]
  }
 ],
 "metadata": {
  "kernelspec": {
   "display_name": "Django Shell-Plus",
   "language": "python",
   "name": "django_extensions"
  },
  "language_info": {
   "codemirror_mode": {
    "name": "ipython",
    "version": 3
   },
   "file_extension": ".py",
   "mimetype": "text/x-python",
   "name": "python",
   "nbconvert_exporter": "python",
   "pygments_lexer": "ipython3",
   "version": "3.10.8"
  },
  "varInspector": {
   "cols": {
    "lenName": 16,
    "lenType": 16,
    "lenVar": 40
   },
   "kernels_config": {
    "python": {
     "delete_cmd_postfix": "",
     "delete_cmd_prefix": "del ",
     "library": "var_list.py",
     "varRefreshCmd": "print(var_dic_list())"
    },
    "r": {
     "delete_cmd_postfix": ") ",
     "delete_cmd_prefix": "rm(",
     "library": "var_list.r",
     "varRefreshCmd": "cat(var_dic_list()) "
    }
   },
   "types_to_exclude": [
    "module",
    "function",
    "builtin_function_or_method",
    "instance",
    "_Feature"
   ],
   "window_display": false
  },
  "vscode": {
   "interpreter": {
    "hash": "c52a5d6021a6ed80736b633dfba2c60df44c104f2cb10c1a15e43a9e16047a52"
   }
  }
 },
 "nbformat": 4,
 "nbformat_minor": 5
}
